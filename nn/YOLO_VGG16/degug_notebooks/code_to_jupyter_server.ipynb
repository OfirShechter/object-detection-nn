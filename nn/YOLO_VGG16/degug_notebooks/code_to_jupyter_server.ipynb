{
 "cells": [
  {
   "cell_type": "code",
   "execution_count": 2,
   "metadata": {},
   "outputs": [
    {
     "name": "stdout",
     "output_type": "stream",
     "text": [
      "/home/dcor/niskhizov/Rar\n"
     ]
    }
   ],
   "source": [
    "cd Rar"
   ]
  },
  {
   "cell_type": "code",
   "execution_count": null,
   "metadata": {},
   "outputs": [],
   "source": []
  },
  {
   "cell_type": "code",
   "execution_count": null,
   "metadata": {},
   "outputs": [
    {
     "name": "stdout",
     "output_type": "stream",
     "text": [
      "Cloning into 'object-detection-nn'...\n",
      "remote: Enumerating objects: 187, done.\u001b[K\n",
      "remote: Counting objects: 100% (187/187), done.\u001b[K\n",
      "remote: Compressing objects: 100% (136/136), done.\u001b[K\n",
      "remote: Total 187 (delta 67), reused 159 (delta 43), pack-reused 0 (from 0)\u001b[K\n",
      "Receiving objects: 100% (187/187), 524.22 KiB | 1.08 MiB/s, done.\n",
      "Resolving deltas: 100% (67/67), done.\n"
     ]
    }
   ],
   "source": [
    "!git clone https://github.com/OfirShechter/object-detection-nn.git"
   ]
  },
  {
   "cell_type": "code",
   "execution_count": 1,
   "metadata": {},
   "outputs": [],
   "source": [
    "!pip list --format=freeze > requirements.txt"
   ]
  },
  {
   "cell_type": "code",
   "execution_count": 3,
   "metadata": {},
   "outputs": [],
   "source": [
    "!pip3 freeze > requirements3.txt"
   ]
  },
  {
   "cell_type": "code",
   "execution_count": 3,
   "metadata": {},
   "outputs": [
    {
     "name": "stdout",
     "output_type": "stream",
     "text": [
      "/home/dcor/niskhizov/Rar/object-detection-nn\n"
     ]
    }
   ],
   "source": [
    "cd object-detection-nn"
   ]
  },
  {
   "cell_type": "code",
   "execution_count": 4,
   "metadata": {},
   "outputs": [
    {
     "name": "stdout",
     "output_type": "stream",
     "text": [
      "Already on 'part_2'\n",
      "Your branch is up to date with 'origin/part_2'.\n"
     ]
    }
   ],
   "source": [
    "!git checkout part_2"
   ]
  },
  {
   "cell_type": "code",
   "execution_count": 5,
   "metadata": {},
   "outputs": [
    {
     "name": "stdout",
     "output_type": "stream",
     "text": [
      "remote: Enumerating objects: 18, done.\u001b[K\n",
      "remote: Counting objects: 100% (18/18), done.\u001b[K\n",
      "remote: Compressing objects: 100% (7/7), done.\u001b[K\n",
      "remote: Total 11 (delta 4), reused 11 (delta 4), pack-reused 0 (from 0)\u001b[K\n",
      "Unpacking objects: 100% (11/11), 4.03 KiB | 60.00 KiB/s, done.\n",
      "From https://github.com/OfirShechter/object-detection-nn\n",
      "   6862b4e..ee818c9  part_2     -> origin/part_2\n",
      "Updating 6862b4e..ee818c9\n",
      "Fast-forward\n",
      " .../degug_notebooks/code_to_jupyter_server.ipynb   |  97 \u001b[32m++++++++++++++++\u001b[m\n",
      " nn/YOLO_VGG16/degug_notebooks/test.py              |   3 \u001b[32m+\u001b[m\u001b[31m-\u001b[m\n",
      " nn/YOLO_VGG16/degug_notebooks/train.py             |  23 \u001b[32m+++\u001b[m\u001b[31m-\u001b[m\n",
      " nn/YOLO_VGG16/model/YOLO_VGG16.py                  |  64 \u001b[32m+++++++++++\u001b[m\n",
      " requirements.txt                                   | 124 \u001b[32m+++++++++++++++++++++\u001b[m\n",
      " 5 files changed, 308 insertions(+), 3 deletions(-)\n",
      " create mode 100644 nn/YOLO_VGG16/degug_notebooks/code_to_jupyter_server.ipynb\n",
      " create mode 100644 nn/YOLO_VGG16/model/YOLO_VGG16.py\n",
      " create mode 100644 requirements.txt\n"
     ]
    }
   ],
   "source": [
    "!git pull"
   ]
  },
  {
   "cell_type": "code",
   "execution_count": 7,
   "metadata": {},
   "outputs": [
    {
     "name": "stdout",
     "output_type": "stream",
     "text": [
      "Channels:\n",
      " - defaults\n",
      "Platform: linux-64\n",
      "Collecting package metadata (repodata.json): done\n",
      "Solving environment: done\n",
      "\n",
      "## Package Plan ##\n",
      "\n",
      "  environment location: /home/dcor/niskhizov/anaconda3/envs/object-detection-nn\n",
      "\n",
      "  added / updated specs:\n",
      "    - python=3.11\n",
      "\n",
      "\n",
      "The following packages will be downloaded:\n",
      "\n",
      "    package                    |            build\n",
      "    ---------------------------|-----------------\n",
      "    ca-certificates-2025.2.25  |       h06a4308_0         129 KB\n",
      "    pip-25.0                   |  py311h06a4308_0         2.9 MB\n",
      "    python-3.11.11             |       he870216_0        32.9 MB\n",
      "    setuptools-75.8.0          |  py311h06a4308_0         2.2 MB\n",
      "    wheel-0.45.1               |  py311h06a4308_0         151 KB\n",
      "    xz-5.6.4                   |       h5eee18b_1         567 KB\n",
      "    ------------------------------------------------------------\n",
      "                                           Total:        38.8 MB\n",
      "\n",
      "The following NEW packages will be INSTALLED:\n",
      "\n",
      "  _libgcc_mutex      pkgs/main/linux-64::_libgcc_mutex-0.1-main \n",
      "  _openmp_mutex      pkgs/main/linux-64::_openmp_mutex-5.1-1_gnu \n",
      "  bzip2              pkgs/main/linux-64::bzip2-1.0.8-h5eee18b_6 \n",
      "  ca-certificates    pkgs/main/linux-64::ca-certificates-2025.2.25-h06a4308_0 \n",
      "  ld_impl_linux-64   pkgs/main/linux-64::ld_impl_linux-64-2.40-h12ee557_0 \n",
      "  libffi             pkgs/main/linux-64::libffi-3.4.4-h6a678d5_1 \n",
      "  libgcc-ng          pkgs/main/linux-64::libgcc-ng-11.2.0-h1234567_1 \n",
      "  libgomp            pkgs/main/linux-64::libgomp-11.2.0-h1234567_1 \n",
      "  libstdcxx-ng       pkgs/main/linux-64::libstdcxx-ng-11.2.0-h1234567_1 \n",
      "  libuuid            pkgs/main/linux-64::libuuid-1.41.5-h5eee18b_0 \n",
      "  ncurses            pkgs/main/linux-64::ncurses-6.4-h6a678d5_0 \n",
      "  openssl            pkgs/main/linux-64::openssl-3.0.15-h5eee18b_0 \n",
      "  pip                pkgs/main/linux-64::pip-25.0-py311h06a4308_0 \n",
      "  python             pkgs/main/linux-64::python-3.11.11-he870216_0 \n",
      "  readline           pkgs/main/linux-64::readline-8.2-h5eee18b_0 \n",
      "  setuptools         pkgs/main/linux-64::setuptools-75.8.0-py311h06a4308_0 \n",
      "  sqlite             pkgs/main/linux-64::sqlite-3.45.3-h5eee18b_0 \n",
      "  tk                 pkgs/main/linux-64::tk-8.6.14-h39e8969_0 \n",
      "  tzdata             pkgs/main/noarch::tzdata-2025a-h04d1e81_0 \n",
      "  wheel              pkgs/main/linux-64::wheel-0.45.1-py311h06a4308_0 \n",
      "  xz                 pkgs/main/linux-64::xz-5.6.4-h5eee18b_1 \n",
      "  zlib               pkgs/main/linux-64::zlib-1.2.13-h5eee18b_1 \n",
      "\n",
      "\n",
      "Proceed ([y]/n)? ^C\n",
      "\n",
      "CondaSystemExit: \n",
      "Operation aborted.  Exiting.\n",
      "\n",
      "\n"
     ]
    }
   ],
   "source": [
    "!conda create -n object-detection-nn python=3.11"
   ]
  },
  {
   "cell_type": "code",
   "execution_count": null,
   "metadata": {},
   "outputs": [],
   "source": [
    "pip install -r requirements.txt"
   ]
  }
 ],
 "metadata": {
  "kernelspec": {
   "display_name": "object-detection",
   "language": "python",
   "name": "python3"
  },
  "language_info": {
   "codemirror_mode": {
    "name": "ipython",
    "version": 3
   },
   "file_extension": ".py",
   "mimetype": "text/x-python",
   "name": "python",
   "nbconvert_exporter": "python",
   "pygments_lexer": "ipython3",
   "version": "3.11.11"
  }
 },
 "nbformat": 4,
 "nbformat_minor": 2
}
